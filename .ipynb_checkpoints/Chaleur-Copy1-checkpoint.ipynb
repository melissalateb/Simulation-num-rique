{
 "cells": [
  {
   "cell_type": "code",
   "execution_count": 1,
   "metadata": {},
   "outputs": [],
   "source": [
    "import numpy as np\n",
    "import matplotlib.pyplot as plt"
   ]
  },
  {
   "cell_type": "code",
   "execution_count": 2,
   "metadata": {},
   "outputs": [],
   "source": [
    "Tfinal = 1.0\n",
    "L = 1.0"
   ]
  },
  {
   "cell_type": "code",
   "execution_count": 12,
   "metadata": {},
   "outputs": [],
   "source": [
    "def ExplChaleur(Tini, Nx):                \n",
    "    dx = L/Nx\n",
    "    a = 0.4\n",
    "    dt = a*dx*dx\n",
    "    alpha =  dt/(dx*dx)\n",
    "    Nt = int(Tfinal/dt) + 1\n",
    "    Lt = np.linspace(0,Tfinal,Nt+1)\n",
    "    Lx = np.linspace(0,L,Nx+1)\n",
    "    T = np.zeros((Nt+1,Nx+1)) \n",
    "    T[0,:] = Tini(Lx)\n",
    "    for n in range(Nt):\n",
    "        T[n+1,0] = Tini(0.0)\n",
    "        for i in range(1,Nx):\n",
    "            T[n + 1, i] = T[n, i] +alpha*(T[n, i + 1] - 2*T[n, i] + T[n, i - 1] )\n",
    "        T[n+1,-1] = Tini(L)\n",
    "    return T,Lx"
   ]
  },
  {
   "cell_type": "code",
   "execution_count": 13,
   "metadata": {},
   "outputs": [],
   "source": [
    "def Tini(x): return np.exp(-10.0 * (x-0.3)**2)"
   ]
  },
  {
   "cell_type": "code",
   "execution_count": 14,
   "metadata": {},
   "outputs": [
    {
     "data": {
      "text/plain": [
       "[<matplotlib.lines.Line2D at 0x7fc9a8591940>]"
      ]
     },
     "execution_count": 14,
     "metadata": {},
     "output_type": "execute_result"
    },
    {
     "data": {
      "image/png": "[encoded data removed]",
      "text/plain": [
       "<Figure size 432x288 with 1 Axes>"
      ]
     },
     "metadata": {
      "needs_background": "light"
     },
     "output_type": "display_data"
    }
   ],
   "source": [
    "Res1,Espace1 = ExplChaleur(Tini, 10)\n",
    "plt.plot(Espace1,Res1[0,:],\"*g\",label = \"Temps initial\")\n",
    "plt.plot(Espace1,Res1[10,:],\"*r\",label = \"Temps initial\")\n",
    "plt.plot(Espace1,Res1[-1,:],\"*b\",label = \"Euler explicite Temps final\")"
   ]
  },
  {
   "cell_type": "code",
   "execution_count": null,
   "metadata": {},
   "outputs": [],
   "source": []
  }
 ],
 "metadata": {
  "kernelspec": {
   "display_name": "Python 3 (ipykernel)",
   "language": "python",
   "name": "python3"
  },
  "language_info": {
   "codemirror_mode": {
    "name": "ipython",
    "version": 3
   },
   "file_extension": ".py",
   "mimetype": "text/x-python",
   "name": "python",
   "nbconvert_exporter": "python",
   "pygments_lexer": "ipython3",
   "version": "3.11.5"
  }
 },
 "nbformat": 4,
 "nbformat_minor": 2
}
