{
 "cells": [
  {
   "cell_type": "code",
   "execution_count": 1,
   "metadata": {},
   "outputs": [],
   "source": [
    "import numpy as np\n",
    "import matplotlib.pyplot as plt\n",
    "import random as rd\n",
    "import scipy.integrate as sci\n",
    "import scipy as spy\n",
    "import scipy.sparse as sparse\n",
    "from numpy.linalg import solve\n",
    "from scipy.sparse.linalg import spsolve\n",
    "from scipy import interpolate\n",
    "from scipy.integrate import odeint\n",
    "from scipy.optimize import root\n"
   ]
  },
  {
   "cell_type": "code",
   "execution_count": 2,
   "metadata": {},
   "outputs": [],
   "source": [
    "def f(x): return np.exp(-x**2)\n",
    "def fp(x): return -2*x*np.exp(-x**2)"
   ]
  },
  {
   "cell_type": "code",
   "execution_count": 3,
   "metadata": {},
   "outputs": [
    {
     "data": {
      "text/plain": [
       "[0.10539922456186435,\n",
       " -0.03244378693233363,\n",
       " -0.0038290740575531723,\n",
       " -6.846886991818124e-07]"
      ]
     },
     "execution_count": 3,
     "metadata": {},
     "output_type": "execute_result"
    }
   ],
   "source": [
    "a=0.5\n",
    "[(f(a+h)-f(a))/h -fp(a) for h in [1,0.1,0.01,1e-10] ]"
   ]
  },
  {
   "cell_type": "code",
   "execution_count": 4,
   "metadata": {},
   "outputs": [
    {
     "data": {
      "text/plain": [
       "[0.4421000038166346,\n",
       " 0.0064634685955032856,\n",
       " 6.489740442361391e-05,\n",
       " -1.2957718686923414e-07]"
      ]
     },
     "execution_count": 4,
     "metadata": {},
     "output_type": "execute_result"
    }
   ],
   "source": [
    "[(f(a+h)-f(a-h))/(2*h) -fp(a) for h in [1,0.1,0.01,1e-10] ]"
   ]
  },
  {
   "cell_type": "code",
   "execution_count": 24,
   "metadata": {},
   "outputs": [],
   "source": [
    "def f(x,t): return -5*x\n",
    "#def f(x,t): return np.cos(x*t)\n",
    "\n",
    "def fexact(x): return np.exp(-5*x)\n"
   ]
  },
  {
   "cell_type": "code",
   "execution_count": 25,
   "metadata": {},
   "outputs": [],
   "source": [
    "def EulerExpl(nbpas,f,duree,y0) :\n",
    "    dt = duree/nbpas\n",
    "    Y = np.zeros( nbpas+1 )\n",
    "    Y[0] = y0 \n",
    "    Temps = np.linspace(0,duree,nbpas+1)\n",
    "    for n in range(nbpas) :\n",
    "        Y[n+1] = Y[n] + dt*f(Y[n],Temps[n]) # schéma \n",
    "    return Temps,Y"
   ]
  },
  {
   "cell_type": "code",
   "execution_count": 26,
   "metadata": {},
   "outputs": [],
   "source": [
    "duree = 1\n",
    "Nbpoints = 10"
   ]
  },
  {
   "cell_type": "code",
   "execution_count": 27,
   "metadata": {
    "scrolled": true
   },
   "outputs": [
    {
     "data": {
      "text/plain": [
       "[<matplotlib.lines.Line2D at 0x7ff3409743c8>]"
      ]
     },
     "execution_count": 27,
     "metadata": {},
     "output_type": "execute_result"
    },
    {
     "data": {
      "image/png": "[encoded data removed]",
      "text/plain": [
       "<Figure size 432x288 with 1 Axes>"
      ]
     },
     "metadata": {
      "needs_background": "light"
     },
     "output_type": "display_data"
    }
   ],
   "source": [
    "Temps1,Y1 = EulerExpl(Nbpoints,f,duree,1)\n",
    "plt.plot(Temps1,Y1,\"*\",marker='*',markersize=10.,label=\"Euler explicite\")\n",
    "Vx = np.linspace(0,duree,1000)\n",
    "plt.plot(Vx,fexact(Vx))"
   ]
  },
  {
   "cell_type": "code",
   "execution_count": 28,
   "metadata": {},
   "outputs": [
    {
     "data": {
      "text/plain": [
       "[<matplotlib.lines.Line2D at 0x7ff3409d1c18>]"
      ]
     },
     "execution_count": 28,
     "metadata": {},
     "output_type": "execute_result"
    },
    {
     "data": {
      "image/png": "[encoded data removed]",
      "text/plain": [
       "<Figure size 432x288 with 1 Axes>"
      ]
     },
     "metadata": {
      "needs_background": "light"
     },
     "output_type": "display_data"
    }
   ],
   "source": [
    "plt.plot(Temps1,fexact(Temps1)-Y1,\"*\")"
   ]
  },
  {
   "cell_type": "code",
   "execution_count": 29,
   "metadata": {},
   "outputs": [],
   "source": [
    "def EulerImpl(nbpas,f,duree,y0) :\n",
    "    dt = duree/nbpas\n",
    "    Y = np.zeros( nbpas+1 )\n",
    "    Temps = np.linspace(0,duree,nbpas+1)\n",
    "    Y[0] = y0 \n",
    "    for n in range(nbpas) :\n",
    "        def h(V): return Y[n] + dt*f(V,Temps[n+1]) - V\n",
    "        Y[n+1] = root(h,Y[n]).x\n",
    "    return Temps,Y"
   ]
  },
  {
   "cell_type": "code",
   "execution_count": 30,
   "metadata": {},
   "outputs": [
    {
     "data": {
      "text/plain": [
       "[<matplotlib.lines.Line2D at 0x7ff3602a7358>]"
      ]
     },
     "execution_count": 30,
     "metadata": {},
     "output_type": "execute_result"
    },
    {
     "data": {
      "image/png": "[encoded data removed]",
      "text/plain": [
       "<Figure size 432x288 with 1 Axes>"
      ]
     },
     "metadata": {
      "needs_background": "light"
     },
     "output_type": "display_data"
    }
   ],
   "source": [
    "Temps2,Y2 = EulerImpl(Nbpoints,f,duree,1)\n",
    "plt.plot(Temps2,Y2,\"*r\",marker='*',markersize=10.,label=\"Euler implicite\")\n",
    "Vx = np.linspace(0,duree,1000)\n",
    "plt.plot(Vx,fexact(Vx))\n"
   ]
  },
  {
   "cell_type": "code",
   "execution_count": 31,
   "metadata": {
    "scrolled": true
   },
   "outputs": [
    {
     "data": {
      "text/plain": [
       "[<matplotlib.lines.Line2D at 0x7ff34093d0b8>]"
      ]
     },
     "execution_count": 31,
     "metadata": {},
     "output_type": "execute_result"
    },
    {
     "data": {
      "image/png": "[encoded data removed]",
      "text/plain": [
       "<Figure size 432x288 with 1 Axes>"
      ]
     },
     "metadata": {
      "needs_background": "light"
     },
     "output_type": "display_data"
    }
   ],
   "source": [
    "plt.plot(Temps2,fexact(Temps2)-Y2,\"*\")"
   ]
  }
 ],
 "metadata": {
  "kernelspec": {
   "display_name": "Python 3",
   "language": "python",
   "name": "python3"
  },
  "language_info": {
   "codemirror_mode": {
    "name": "ipython",
    "version": 3
   },
   "file_extension": ".py",
   "mimetype": "text/x-python",
   "name": "python",
   "nbconvert_exporter": "python",
   "pygments_lexer": "ipython3",
   "version": "3.6.9"
  }
 },
 "nbformat": 4,
 "nbformat_minor": 2
}
